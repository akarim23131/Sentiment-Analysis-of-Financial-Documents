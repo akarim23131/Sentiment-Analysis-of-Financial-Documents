{
  "nbformat": 4,
  "nbformat_minor": 0,
  "metadata": {
    "colab": {
      "provenance": []
    },
    "kernelspec": {
      "name": "python3",
      "display_name": "Python 3"
    },
    "language_info": {
      "name": "python"
    }
  },
  "cells": [
    {
      "cell_type": "code",
      "execution_count": 6,
      "metadata": {
        "colab": {
          "base_uri": "https://localhost:8080/"
        },
        "id": "sRmFbZAmXMgb",
        "outputId": "00a27838-6786-46f4-e893-b10fb46224a6"
      },
      "outputs": [
        {
          "output_type": "stream",
          "name": "stdout",
          "text": [
            "Requirement already satisfied: pysentiment2 in /usr/local/lib/python3.10/dist-packages (0.1.1)\n",
            "Requirement already satisfied: pandas in /usr/local/lib/python3.10/dist-packages (from pysentiment2) (1.5.3)\n",
            "Requirement already satisfied: nltk>=2.0 in /usr/local/lib/python3.10/dist-packages (from pysentiment2) (3.8.1)\n",
            "Requirement already satisfied: click in /usr/local/lib/python3.10/dist-packages (from nltk>=2.0->pysentiment2) (8.1.7)\n",
            "Requirement already satisfied: joblib in /usr/local/lib/python3.10/dist-packages (from nltk>=2.0->pysentiment2) (1.3.2)\n",
            "Requirement already satisfied: regex>=2021.8.3 in /usr/local/lib/python3.10/dist-packages (from nltk>=2.0->pysentiment2) (2023.6.3)\n",
            "Requirement already satisfied: tqdm in /usr/local/lib/python3.10/dist-packages (from nltk>=2.0->pysentiment2) (4.66.1)\n",
            "Requirement already satisfied: python-dateutil>=2.8.1 in /usr/local/lib/python3.10/dist-packages (from pandas->pysentiment2) (2.8.2)\n",
            "Requirement already satisfied: pytz>=2020.1 in /usr/local/lib/python3.10/dist-packages (from pandas->pysentiment2) (2023.3.post1)\n",
            "Requirement already satisfied: numpy>=1.21.0 in /usr/local/lib/python3.10/dist-packages (from pandas->pysentiment2) (1.23.5)\n",
            "Requirement already satisfied: six>=1.5 in /usr/local/lib/python3.10/dist-packages (from python-dateutil>=2.8.1->pandas->pysentiment2) (1.16.0)\n"
          ]
        }
      ],
      "source": [
        "!pip install pysentiment2\n",
        "\n"
      ]
    },
    {
      "cell_type": "code",
      "source": [
        "!mkdir input"
      ],
      "metadata": {
        "colab": {
          "base_uri": "https://localhost:8080/"
        },
        "id": "lopHz-JQXuWf",
        "outputId": "713139cc-3261-4784-fdad-05fe640dae6c"
      },
      "execution_count": 7,
      "outputs": [
        {
          "output_type": "stream",
          "name": "stdout",
          "text": [
            "mkdir: cannot create directory ‘input’: File exists\n"
          ]
        }
      ]
    },
    {
      "cell_type": "code",
      "source": [
        "import os\n",
        "import pandas as pd\n",
        "import pysentiment2 as ps\n",
        "\n",
        "# Create an instance of the LM dictionary\n",
        "lm = ps.LM()\n",
        "\n",
        "# Specify the directory containing your text files\n",
        "directory = '/content/input'  # replace with your directory path\n",
        "\n",
        "# Initialize a list to store the results\n",
        "results = []\n",
        "\n",
        "# Iterate over all files in the directory\n",
        "for filename in os.listdir(directory):\n",
        "    if filename.endswith('.txt'):\n",
        "        # Open the file\n",
        "        with open(os.path.join(directory, filename), 'r', encoding='cp1252') as f:\n",
        "            text = f.read()\n",
        "\n",
        "        # Tokenize the text\n",
        "        tokens = lm.tokenize(text)\n",
        "\n",
        "        # Get the sentiment score\n",
        "        score = lm.get_score(tokens)\n",
        "\n",
        "        # Add the filename and score to the results\n",
        "        results.append((filename, score['Positive'], score['Negative'], score['Polarity'], score['Subjectivity']))\n",
        "\n",
        "# Convert the results to a DataFrame\n",
        "df = pd.DataFrame(results, columns=['Filename', 'Positive', 'Negative', 'Polarity', 'Subjectivity'])\n",
        "\n",
        "# Save the DataFrame to an Excel file\n",
        "df.to_excel('sentiment_scores.xlsx', index=False)\n"
      ],
      "metadata": {
        "id": "KvQBtErFXOqx"
      },
      "execution_count": 9,
      "outputs": []
    },
    {
      "cell_type": "code",
      "source": [],
      "metadata": {
        "id": "TIsE8iywX_fH"
      },
      "execution_count": null,
      "outputs": []
    }
  ]
}